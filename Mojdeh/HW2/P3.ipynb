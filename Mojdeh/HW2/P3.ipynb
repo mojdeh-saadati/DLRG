{
 "cells": [
  {
   "cell_type": "code",
   "execution_count": 2,
   "metadata": {},
   "outputs": [],
   "source": [
    "# List: This data type preserve the order and we can add or delete the items while keeping the order.\n",
    "# Set : this data type removes the repeatitive items by itself. this feature will come handy when we are applying the set operations. \n",
    "# dictionary: This data type is able to map each key to a data value, the advantage of dictionary is that it prevents from repetitive value for each key\n",
    "# can only have one value. that onto characteristic is not easily implemented by other data types. \n",
    "# Tuples are only immutable data types. This feature will come handy in long programming that is shared with several programmers to ensure the data stay \n",
    "# as it is and does not change. \n"
   ]
  },
  {
   "cell_type": "code",
   "execution_count": null,
   "metadata": {},
   "outputs": [],
   "source": [
    "# SRP:\n",
    "\n"
   ]
  }
 ],
 "metadata": {
  "kernelspec": {
   "display_name": "Python 3.7.11 ('mlfairness')",
   "language": "python",
   "name": "python3"
  },
  "language_info": {
   "codemirror_mode": {
    "name": "ipython",
    "version": 3
   },
   "file_extension": ".py",
   "mimetype": "text/x-python",
   "name": "python",
   "nbconvert_exporter": "python",
   "pygments_lexer": "ipython3",
   "version": "3.7.11"
  },
  "orig_nbformat": 4,
  "vscode": {
   "interpreter": {
    "hash": "fb8d7cd0981ccab87710c471fe6bd5905d28d5198913f818d73c824d1c63707d"
   }
  }
 },
 "nbformat": 4,
 "nbformat_minor": 2
}
